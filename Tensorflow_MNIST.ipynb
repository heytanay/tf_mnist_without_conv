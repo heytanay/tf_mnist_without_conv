{
  "nbformat": 4,
  "nbformat_minor": 0,
  "metadata": {
    "colab": {
      "name": "Tensorflow MNIST.ipynb",
      "version": "0.3.2",
      "provenance": [],
      "collapsed_sections": [],
      "include_colab_link": true
    },
    "kernelspec": {
      "name": "python3",
      "display_name": "Python 3"
    },
    "accelerator": "GPU"
  },
  "cells": [
    {
      "cell_type": "markdown",
      "metadata": {
        "id": "view-in-github",
        "colab_type": "text"
      },
      "source": [
        "<a href=\"https://colab.research.google.com/github/tanaymehta28/tf_mnist_without_conv/blob/master/Tensorflow_MNIST.ipynb\" target=\"_parent\"><img src=\"https://colab.research.google.com/assets/colab-badge.svg\" alt=\"Open In Colab\"/></a>"
      ]
    },
    {
      "metadata": {
        "id": "FXgkVF8DkXa_",
        "colab_type": "code",
        "colab": {}
      },
      "cell_type": "code",
      "source": [
        "import tensorflow as tf"
      ],
      "execution_count": 0,
      "outputs": []
    },
    {
      "metadata": {
        "id": "W3ygyd2skiyx",
        "colab_type": "code",
        "colab": {
          "base_uri": "https://localhost:8080/",
          "height": 522
        },
        "outputId": "35c67d1c-f81e-4c89-ab1b-279e5ed68868"
      },
      "cell_type": "code",
      "source": [
        "from tensorflow.examples.tutorials.mnist import input_data\n",
        "mnist = input_data.read_data_sets('/tmp/data/',one_hot=True)"
      ],
      "execution_count": 2,
      "outputs": [
        {
          "output_type": "stream",
          "text": [
            "WARNING:tensorflow:From <ipython-input-2-baad6012b258>:2: read_data_sets (from tensorflow.contrib.learn.python.learn.datasets.mnist) is deprecated and will be removed in a future version.\n",
            "Instructions for updating:\n",
            "Please use alternatives such as official/mnist/dataset.py from tensorflow/models.\n",
            "WARNING:tensorflow:From /usr/local/lib/python3.6/dist-packages/tensorflow/contrib/learn/python/learn/datasets/mnist.py:260: maybe_download (from tensorflow.contrib.learn.python.learn.datasets.base) is deprecated and will be removed in a future version.\n",
            "Instructions for updating:\n",
            "Please write your own downloading logic.\n",
            "WARNING:tensorflow:From /usr/local/lib/python3.6/dist-packages/tensorflow/contrib/learn/python/learn/datasets/base.py:252: _internal_retry.<locals>.wrap.<locals>.wrapped_fn (from tensorflow.contrib.learn.python.learn.datasets.base) is deprecated and will be removed in a future version.\n",
            "Instructions for updating:\n",
            "Please use urllib or similar directly.\n",
            "Successfully downloaded train-images-idx3-ubyte.gz 9912422 bytes.\n",
            "WARNING:tensorflow:From /usr/local/lib/python3.6/dist-packages/tensorflow/contrib/learn/python/learn/datasets/mnist.py:262: extract_images (from tensorflow.contrib.learn.python.learn.datasets.mnist) is deprecated and will be removed in a future version.\n",
            "Instructions for updating:\n",
            "Please use tf.data to implement this functionality.\n",
            "Extracting /tmp/data/train-images-idx3-ubyte.gz\n",
            "Successfully downloaded train-labels-idx1-ubyte.gz 28881 bytes.\n",
            "WARNING:tensorflow:From /usr/local/lib/python3.6/dist-packages/tensorflow/contrib/learn/python/learn/datasets/mnist.py:267: extract_labels (from tensorflow.contrib.learn.python.learn.datasets.mnist) is deprecated and will be removed in a future version.\n",
            "Instructions for updating:\n",
            "Please use tf.data to implement this functionality.\n",
            "Extracting /tmp/data/train-labels-idx1-ubyte.gz\n",
            "WARNING:tensorflow:From /usr/local/lib/python3.6/dist-packages/tensorflow/contrib/learn/python/learn/datasets/mnist.py:110: dense_to_one_hot (from tensorflow.contrib.learn.python.learn.datasets.mnist) is deprecated and will be removed in a future version.\n",
            "Instructions for updating:\n",
            "Please use tf.one_hot on tensors.\n",
            "Successfully downloaded t10k-images-idx3-ubyte.gz 1648877 bytes.\n",
            "Extracting /tmp/data/t10k-images-idx3-ubyte.gz\n",
            "Successfully downloaded t10k-labels-idx1-ubyte.gz 4542 bytes.\n",
            "Extracting /tmp/data/t10k-labels-idx1-ubyte.gz\n",
            "WARNING:tensorflow:From /usr/local/lib/python3.6/dist-packages/tensorflow/contrib/learn/python/learn/datasets/mnist.py:290: DataSet.__init__ (from tensorflow.contrib.learn.python.learn.datasets.mnist) is deprecated and will be removed in a future version.\n",
            "Instructions for updating:\n",
            "Please use alternatives such as official/mnist/dataset.py from tensorflow/models.\n"
          ],
          "name": "stdout"
        }
      ]
    },
    {
      "metadata": {
        "id": "nx6dE2RIkm0S",
        "colab_type": "code",
        "colab": {}
      },
      "cell_type": "code",
      "source": [
        "batch_size = 150\n",
        "learning_rate = 0.001\n",
        "# epochs = 10\n",
        "input_neuron = 28*28 #Dimensions of the Input Data\n",
        "hidden_layer_one = 768 # Number of neurons in the first Hidden layer\n",
        "hidden_layer_two = 768 # Number of neurons in the Second Hidden layer\n",
        "hidden_layer_three = 768 # Number of neurons in the Third Layer\n",
        "output_neuron = 10 # Number of the classes we want to predict"
      ],
      "execution_count": 0,
      "outputs": []
    },
    {
      "metadata": {
        "id": "YzpFO-a3ktTI",
        "colab_type": "code",
        "colab": {}
      },
      "cell_type": "code",
      "source": [
        "x = tf.placeholder(tf.float32,[None,input_neuron])\n",
        "y = tf.placeholder(tf.float32,[None,output_neuron])"
      ],
      "execution_count": 0,
      "outputs": []
    },
    {
      "metadata": {
        "id": "e8WD6fkkk0kJ",
        "colab_type": "code",
        "colab": {}
      },
      "cell_type": "code",
      "source": [
        "def Neural_Network(data):\n",
        "\t# Hidden Layer and Output Layer Weights Initialization\n",
        "\thidden_one_w = tf.Variable(tf.random_uniform([input_neuron,hidden_layer_one],seed=12))\n",
        "\thidden_two_w = tf.Variable(tf.random_uniform([hidden_layer_one,hidden_layer_two],seed=12))\n",
        "\thidden_three_w = tf.Variable(tf.random_uniform([hidden_layer_two,hidden_layer_three],seed=12))\n",
        "\toutput_w = tf.Variable(tf.random_uniform([hidden_layer_three,output_neuron],seed=12))\n",
        "\n",
        "\t# Hidden Layer and Output Layer Biases Initialization\n",
        "\thidden_one_bias = tf.Variable(tf.random_uniform([hidden_layer_one],seed=12))\n",
        "\thidden_two_bias = tf.Variable(tf.random_uniform([hidden_layer_two],seed=12))\n",
        "\thidden_three_bias = tf.Variable(tf.random_uniform([hidden_layer_three],seed=12))\n",
        "\toutput_bias = tf.Variable(tf.random_uniform([output_neuron],seed=12))\n",
        "\n",
        "\t# Main Computation Graph for Matrix Multiplication and Addition\n",
        "\th_1 = tf.add(tf.matmul(x,hidden_one_w),hidden_one_bias)\n",
        "\th_2 = tf.add(tf.matmul(h_1,hidden_two_w),hidden_two_bias)\n",
        "\th_3 = tf.add(tf.matmul(h_2,hidden_three_w),hidden_three_bias)\n",
        "\tout = tf.add(tf.matmul(h_3,output_w),output_bias)\n",
        "\treturn out"
      ],
      "execution_count": 0,
      "outputs": []
    },
    {
      "metadata": {
        "id": "kYyjEj39k_26",
        "colab_type": "code",
        "colab": {}
      },
      "cell_type": "code",
      "source": [
        "def train_neural_network(x):\n",
        "\tprediction = Neural_Network(x)\n",
        "\tcost = tf.reduce_mean(tf.nn.softmax_cross_entropy_with_logits(logits=prediction,labels=y))\n",
        "\toptimizer = tf.train.AdamOptimizer(learning_rate=learning_rate).minimize(cost)\n",
        "\tinit = tf.global_variables_initializer()\n",
        "\n",
        "\twith tf.Session() as sess:\n",
        "\t\tsess.run(init)\n",
        "\t\tfor epoch in range(25):\n",
        "\t\t\tepoch_loss = 0\n",
        "\t\t\tfor _ in range(int(mnist.train.num_examples/batch_size)):\n",
        "\t\t\t\tepoch_x, epoch_y = mnist.train.next_batch(batch_size)\n",
        "\t\t\t\t_, c = sess.run([optimizer,cost], feed_dict={x: epoch_x,y: epoch_y})\n",
        "\t\t\t\tepoch_loss += c\n",
        "\t\t\tprint('Epoch',epoch,'completed out of',epochs,'loss:',epoch_loss)\n",
        "\t\tcorrect = tf.equal(tf.argmax(prediction,1), tf.argmax(y,1))\n",
        "\n",
        "\t\taccuracy = tf.reduce_mean(tf.cast(correct,'float'))\n",
        "\t\tprint('Accuracy:',accuracy.eval({x: mnist.test.images, y:mnist.test.labels}))\n"
      ],
      "execution_count": 0,
      "outputs": []
    },
    {
      "metadata": {
        "id": "vG3-OjZqlDw6",
        "colab_type": "code",
        "colab": {
          "base_uri": "https://localhost:8080/",
          "height": 452
        },
        "outputId": "61492a9a-6fde-40cd-a12d-6882f1014db7"
      },
      "cell_type": "code",
      "source": [
        "train_neural_network(x)"
      ],
      "execution_count": 38,
      "outputs": [
        {
          "output_type": "stream",
          "text": [
            "Epoch 0 completed out of 10 loss: 2152261783.0625\n",
            "Epoch 1 completed out of 10 loss: 720023096.9375\n",
            "Epoch 2 completed out of 10 loss: 365599549.0\n",
            "Epoch 3 completed out of 10 loss: 132688906.890625\n",
            "Epoch 4 completed out of 10 loss: 23046187.870117188\n",
            "Epoch 5 completed out of 10 loss: 1315550.9735107422\n",
            "Epoch 6 completed out of 10 loss: 1339200.2986450195\n",
            "Epoch 7 completed out of 10 loss: 1466914.9522094727\n",
            "Epoch 8 completed out of 10 loss: 759163.2550048828\n",
            "Epoch 9 completed out of 10 loss: 873675.0340576172\n",
            "Epoch 10 completed out of 10 loss: 594571.7756347656\n",
            "Epoch 11 completed out of 10 loss: 433438.9964904785\n",
            "Epoch 12 completed out of 10 loss: 384057.6725921631\n",
            "Epoch 13 completed out of 10 loss: 376394.87216186523\n",
            "Epoch 14 completed out of 10 loss: 282839.51651000977\n",
            "Epoch 15 completed out of 10 loss: 215113.17987823486\n",
            "Epoch 16 completed out of 10 loss: 199148.7502822876\n",
            "Epoch 17 completed out of 10 loss: 161738.36910247803\n",
            "Epoch 18 completed out of 10 loss: 155924.74657440186\n",
            "Epoch 19 completed out of 10 loss: 137401.46991348267\n",
            "Epoch 20 completed out of 10 loss: 115975.15002441406\n",
            "Epoch 21 completed out of 10 loss: 104569.88371276855\n",
            "Epoch 22 completed out of 10 loss: 87619.56691551208\n",
            "Epoch 23 completed out of 10 loss: 72215.5220336914\n",
            "Epoch 24 completed out of 10 loss: 60562.25022125244\n",
            "Accuracy: 0.9119\n"
          ],
          "name": "stdout"
        }
      ]
    },
    {
      "metadata": {
        "id": "WTSJQN7GlGdU",
        "colab_type": "code",
        "colab": {}
      },
      "cell_type": "code",
      "source": [
        ""
      ],
      "execution_count": 0,
      "outputs": []
    }
  ]
}